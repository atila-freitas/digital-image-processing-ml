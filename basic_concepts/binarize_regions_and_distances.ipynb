{
 "cells": [
  {
   "cell_type": "markdown",
   "id": "d5aefa14-c09b-4539-a847-efa7908a0750",
   "metadata": {},
   "source": [
    "# What find in this notebook?\n",
    "\n",
    "1. Extract \"RED\" component from flower's image\n",
    "1. Function to binarize \"RED\" component: Parameters (image and threshold)\n",
    "1. Function to find all conections in a region around one reference coordinate: Parameters (image and reference coordinate)\n",
    "1. Fucntion to calculate dimensions of flower using euclidian distance, D4 (city-block distance) and D8 (chessboard distance)"
   ]
  },
  {
   "cell_type": "code",
   "execution_count": 1,
   "id": "49975c50-7a22-4a81-8eb3-0ce7cc9641c5",
   "metadata": {},
   "outputs": [],
   "source": [
    "%matplotlib inline\n",
    "import cv2\n",
    "\n",
    "from matplotlib import pyplot as plt\n",
    "from matplotlib import image as mpimg\n",
    "import numpy as np\n",
    "import datetime\n",
    "import math"
   ]
  },
  {
   "cell_type": "code",
   "execution_count": 2,
   "id": "f3f8c81b-3321-4a67-b54b-be775f67579f",
   "metadata": {},
   "outputs": [],
   "source": [
    "img = cv2.imread('flower.jpg')\n"
   ]
  },
  {
   "cell_type": "code",
   "execution_count": 3,
   "id": "4f54094f-d681-48d1-81c5-95618e8fa42e",
   "metadata": {},
   "outputs": [],
   "source": [
    "blue, green, red = cv2.split(img)"
   ]
  },
  {
   "cell_type": "code",
   "execution_count": 4,
   "id": "d5a00d31-2d47-498a-b3cb-e0372e4cb8df",
   "metadata": {},
   "outputs": [],
   "source": [
    "def check_threshold(x, threshold):\n",
    "    return 0 if x < threshold else 255\n",
    "\n",
    "def make_binary_image(image, threshold):\n",
    "    vectorize_threshold = np.vectorize(check_threshold)\n",
    "    return vectorize_threshold(image, threshold)\n",
    "            "
   ]
  },
  {
   "cell_type": "code",
   "execution_count": 5,
   "id": "03853b9b-7cb2-490e-9945-02f2ea661370",
   "metadata": {},
   "outputs": [
    {
     "data": {
      "text/plain": [
       "<matplotlib.image.AxesImage at 0x131fcd33ac8>"
      ]
     },
     "execution_count": 5,
     "metadata": {},
     "output_type": "execute_result"
    },
    {
     "data": {
      "image/png": "[encoded data removed]",
      "text/plain": [
       "<Figure size 432x288 with 1 Axes>"
      ]
     },
     "metadata": {
      "needs_background": "light"
     },
     "output_type": "display_data"
    }
   ],
   "source": [
    "\n",
    "binary_image = make_binary_image(red, 50)\n",
    "\n",
    "cv2.imwrite(\"binary_image.jpg\", cv2.cvtColor(np.uint8(binary_image), cv2.COLOR_BGR2RGB))\n",
    "plt.imshow(cv2.cvtColor(np.uint8(binary_image), cv2.COLOR_BGR2RGB))"
   ]
  },
  {
   "cell_type": "code",
   "execution_count": 6,
   "id": "de0e4166-88c8-48a0-b4e3-16b1653ff2d8",
   "metadata": {},
   "outputs": [],
   "source": [
    "# Adjacency functions\n",
    "\n",
    "def adjacency_four(image, coordinate, rows, columns):\n",
    "    \n",
    "    adjacency_coordinates = []\n",
    "    \n",
    "    has_top = True if coordinate[0]-1 >= 0 else False\n",
    "    top = coordinate[0]-1\n",
    "    has_bot = True if coordinate[0]+1 < rows else False\n",
    "    bot = coordinate[0]+1\n",
    "    this_row = coordinate[0]\n",
    "\n",
    "    has_left = True if coordinate[1]-1 >= 0 else False\n",
    "    left = coordinate[1]-1\n",
    "    has_right = True if coordinate[1]+1 < columns else False\n",
    "    right = coordinate[1]+1\n",
    "    this_column = coordinate[1]\n",
    "    \n",
    "    if(has_bot and (image[bot][this_column] == 255)):\n",
    "        adjacency_coordinates.append([bot,this_column])\n",
    "\n",
    "    if(has_top and (image[top][this_column] == 255)):\n",
    "        adjacency_coordinates.append([top,this_column])\n",
    "\n",
    "    if(has_right and (image[this_row][right] == 255)):\n",
    "        adjacency_coordinates.append([this_row,right])\n",
    "\n",
    "    if(has_left and (image[this_row][left] == 255)):\n",
    "        adjacency_coordinates.append([this_row,left])\n",
    "\n",
    "    return adjacency_coordinates\n",
    "    \n",
    "def adjacency_diagonal(image, coordinate, rows, columns):\n",
    "    \n",
    "    adjacency_coordinates = []\n",
    "    \n",
    "    has_top = True if coordinate[0]-1 >= 0 else False\n",
    "    top = coordinate[0]-1\n",
    "    has_bot = True if coordinate[0]+1 < rows else False\n",
    "    bot = coordinate[0]+1\n",
    "    this_row = coordinate[0]\n",
    "\n",
    "    has_left = True if coordinate[1]-1 >= 0 else False\n",
    "    left = coordinate[1]-1\n",
    "    has_right = True if coordinate[1]+1 < columns else False\n",
    "    right = coordinate[1]+1\n",
    "    this_column = coordinate[1]\n",
    "\n",
    "    if(has_bot and has_right and (image[bot][right] == 255)):\n",
    "        adjacency_coordinates.append([bot,right])\n",
    "\n",
    "    if(has_bot and has_left and (image[bot][left] == 255)):\n",
    "        adjacency_coordinates.append([bot,left])\n",
    "\n",
    "    if(has_top and has_right and (image[top][right] == 255)):\n",
    "        adjacency_coordinates.append([top,right])\n",
    "\n",
    "    if(has_top and has_left and (image[top][left]) == 255):\n",
    "        adjacency_coordinates.append([top,left])\n",
    "    \n",
    "    return adjacency_coordinates\n",
    "\n",
    "def adjacency_eight(image, coordinate, rows, columns):\n",
    "    \n",
    "    return adjacency_four(image, coordinate, rows, columns) + adjacency_diagonal(image, coordinate, rows, columns)\n",
    "    \n",
    "def adjacency_mixed(image, coordinate, rows, columns):\n",
    "    adjacency_coordinates = []\n",
    "    coordinate_adjacency_four = adjacency_four(image, coordinate, rows, columns)\n",
    "    \n",
    "    for each_coordinate in adjacency_diagonal(image, coordinate, rows, columns):\n",
    "        for each_coordinate_of_diagonal in adjacency_four(image, each_coordinate, rows, columns):\n",
    "            if(each_coordinate_of_diagonal in coordinate_adjacency_four):\n",
    "                adjacency_coordinates.append(each_coordinate_of_diagonal)\n",
    "    \n",
    "    return coordinate_adjacency_four + adjacency_coordinates\n",
    "       \n",
    "# Choose the adjacency type\n",
    "adjacency_types = {0: adjacency_four, 1: adjacency_diagonal, 2: adjacency_eight, 3: adjacency_mixed}\n",
    "\n",
    "def detect_connection(image, image_with_zeros, coordinate, rows, columns, adjacency_type):\n",
    "    if(image_with_zeros[coordinate[0]][coordinate[1]] == 255):\n",
    "        return None\n",
    "       \n",
    "    if(image[coordinate[0]][coordinate[1]] == 255):\n",
    "        \n",
    "        image_with_zeros[coordinate[0]][coordinate[1]] = 255\n",
    "        adjacency_function = adjacency_types.get(adjacency_type, lambda: \"Invalid adajacent\")\n",
    "        coordinates_connected = adjacency_function(image, coordinate, rows, columns)\n",
    "        for each_coordinate in coordinates_connected:\n",
    "            detect_connection(image, image_with_zeros, each_coordinate, rows, columns, adjacency_type)\n",
    "    else:\n",
    "        return None\n",
    "        "
   ]
  },
  {
   "cell_type": "markdown",
   "id": "316c702b-c6b8-4bed-b33a-b10e9279f2dd",
   "metadata": {},
   "source": [
    "# Here we can click on the image to choose the image's coordinate"
   ]
  },
  {
   "cell_type": "code",
   "execution_count": 7,
   "id": "df9de680-684c-4967-8ab2-e70a535904ad",
   "metadata": {},
   "outputs": [],
   "source": [
    "#default coordinate\n",
    "chosen_coordinates = [150,100]"
   ]
  },
  {
   "cell_type": "code",
   "execution_count": 8,
   "id": "7626abd7-5647-45f8-98d7-dd855dd445dd",
   "metadata": {},
   "outputs": [
    {
     "data": {
      "application/vnd.jupyter.widget-view+json": {
       "model_id": "a6ea1e68343f4b31b3174dbae56feb6b",
       "version_major": 2,
       "version_minor": 0
      },
      "text/plain": [
       "Canvas(toolbar=Toolbar(toolitems=[('Home', 'Reset original view', 'home', 'home'), ('Back', 'Back to previous …"
      ]
     },
     "metadata": {},
     "output_type": "display_data"
    }
   ],
   "source": [
    "%matplotlib widget\n",
    "import matplotlib.pyplot as plt\n",
    "import matplotlib.image as mpimg\n",
    "\n",
    "fig = plt.figure(figsize=(4,3))\n",
    "\n",
    "img=mpimg.imread(\"binary_image.jpg\")\n",
    "\n",
    "def onclick(event):\n",
    "    ix, iy = event.xdata, event.ydata\n",
    "    global chosen_coordinates\n",
    "    chosen_coordinates = [int(math.floor(iy)),int(math.floor(ix))]\n",
    "    plt.close()\n",
    "\n",
    "cid = fig.canvas.mpl_connect('button_press_event', onclick)\n",
    "\n",
    "imgplot = plt.imshow(img)\n",
    "plt.show()"
   ]
  },
  {
   "cell_type": "code",
   "execution_count": 9,
   "id": "c3f07b92-41d7-4cf9-8b94-9b6f9c612990",
   "metadata": {},
   "outputs": [],
   "source": [
    "# Generate regions to all adjacency type\n",
    "\n",
    "rows = red.shape[0]\n",
    "columns = red.shape[1]\n",
    "\n",
    "\n",
    "image_with_zeros_four = np.zeros((rows, columns))\n",
    "image_with_zeros_diagonal = np.zeros((rows, columns))\n",
    "image_with_zeros_eight = np.zeros((rows, columns))\n",
    "image_with_zeros_mixed = np.zeros((rows, columns))\n",
    "\n",
    "detect_connection(binary_image, image_with_zeros_four, chosen_coordinates, rows, columns, 0)\n",
    "detect_connection(binary_image, image_with_zeros_diagonal, chosen_coordinates, rows, columns, 1)\n",
    "detect_connection(binary_image, image_with_zeros_eight, chosen_coordinates, rows, columns, 2)\n",
    "detect_connection(binary_image, image_with_zeros_mixed, chosen_coordinates, rows, columns, 3)\n",
    "\n",
    "images = [binary_image, image_with_zeros_four, image_with_zeros_diagonal, image_with_zeros_eight, image_with_zeros_mixed]"
   ]
  },
  {
   "cell_type": "code",
   "execution_count": 10,
   "id": "a174bedb-258e-4b16-b310-465fe74319cc",
   "metadata": {},
   "outputs": [
    {
     "data": {
      "application/vnd.jupyter.widget-view+json": {
       "model_id": "8cf1eff355214a4cad6cfa6859e0f8f8",
       "version_major": 2,
       "version_minor": 0
      },
      "text/plain": [
       "Canvas(toolbar=Toolbar(toolitems=[('Home', 'Reset original view', 'home', 'home'), ('Back', 'Back to previous …"
      ]
     },
     "metadata": {},
     "output_type": "display_data"
    },
    {
     "name": "stderr",
     "output_type": "stream",
     "text": [
      "c:\\users\\atila\\appdata\\local\\programs\\python\\python37\\lib\\site-packages\\ipykernel_launcher.py:4: MatplotlibDeprecationWarning: Passing non-integers as three-element position specification is deprecated since 3.3 and will be removed two minor releases later.\n",
      "  after removing the cwd from sys.path.\n"
     ]
    }
   ],
   "source": [
    "plt.figure(figsize=(14,7))\n",
    "columns = 5\n",
    "for i, image in enumerate(images):\n",
    "    plt.subplot(len(images) / columns + 1, columns, i + 1)\n",
    "    plt.imshow(cv2.cvtColor(np.uint8(image), cv2.COLOR_BGR2RGB))"
   ]
  },
  {
   "cell_type": "code",
   "execution_count": 11,
   "id": "79ec6aa7-0740-4637-9f81-90ada980b773",
   "metadata": {},
   "outputs": [],
   "source": [
    "# Functions to calculate distancies\n",
    "\n",
    "import math\n",
    "\n",
    "def get_extremes_coordinates_in_image(image):\n",
    "    extremes = []\n",
    "    \n",
    "    rows = image.shape[0]\n",
    "    columns = image.shape[1]\n",
    "    \n",
    "    coordinates = []\n",
    "    \n",
    "    min_in_x = [red.shape[0], red.shape[1]]\n",
    "    max_in_x = [0,0]\n",
    "    min_in_y = [red.shape[0], red.shape[1]]\n",
    "    max_in_y = [0,0]\n",
    "    \n",
    "    for x in range(rows):\n",
    "        for y in range(columns):\n",
    "            if(image[x][y] == 255):\n",
    "                if(x < min_in_x[0]):\n",
    "                    min_in_x = [x,y]\n",
    "                if(x > max_in_x[0]):\n",
    "                    max_in_x = [x,y]\n",
    "                if(y < min_in_y[1]):\n",
    "                    min_in_y = [x,y]\n",
    "                if(y > max_in_y[1]):\n",
    "                    max_in_y = [x,y]\n",
    "    \n",
    "    return [min_in_x, max_in_x, min_in_y, max_in_y]\n",
    "    \n",
    "def get_distance_eight(extremes):\n",
    "    return max(abs(extremes[0][0]-extremes[1][0]),abs(extremes[0][1]-extremes[1][1])), max(abs(extremes[2][0]-extremes[3][0]),abs(extremes[2][1]-extremes[3][1]))\n",
    "\n",
    "def get_distance_four(extremes):\n",
    "    return abs(extremes[0][0]-extremes[1][0]) + abs(extremes[0][1]-extremes[1][1]), abs(extremes[2][0]-extremes[3][0]) + abs(extremes[2][1]-extremes[3][1])\n",
    "\n",
    "def get_euclidian_distance(extremes):\n",
    "    return math.sqrt((abs(extremes[0][0]-extremes[1][0])**2) + (abs(extremes[0][1]-extremes[1][1]))**2), math.sqrt((abs(extremes[2][0]-extremes[3][0])**2) + (abs(extremes[2][1]-extremes[3][1])**2))\n"
   ]
  },
  {
   "cell_type": "code",
   "execution_count": 12,
   "id": "0017b196-f8c3-4a43-bc0c-a4d81caf9818",
   "metadata": {},
   "outputs": [
    {
     "name": "stdout",
     "output_type": "stream",
     "text": [
      "Distance 4 - (303, 292)\n",
      "Distance 8 - (286, 189)\n",
      "Distance euclidian - (286.50479926172267, 215.24404753674375)\n"
     ]
    }
   ],
   "source": [
    "extremes = get_extremes_coordinates_in_image(image_with_zeros_mixed)\n",
    "print(\"Distance 4 - \" + str(get_distance_four(extremes)))\n",
    "print(\"Distance 8 - \" + str(get_distance_eight(extremes)))\n",
    "print(\"Distance euclidian - \" + str(get_euclidian_distance(extremes)))"
   ]
  },
  {
   "cell_type": "code",
   "execution_count": null,
   "id": "280cbac3-f9fc-4871-af1e-90d7f3546433",
   "metadata": {},
   "outputs": [],
   "source": []
  }
 ],
 "metadata": {
  "kernelspec": {
   "display_name": "Python 3",
   "language": "python",
   "name": "python3"
  },
  "language_info": {
   "codemirror_mode": {
    "name": "ipython",
    "version": 3
   },
   "file_extension": ".py",
   "mimetype": "text/x-python",
   "name": "python",
   "nbconvert_exporter": "python",
   "pygments_lexer": "ipython3",
   "version": "3.7.9"
  }
 },
 "nbformat": 4,
 "nbformat_minor": 5
}
